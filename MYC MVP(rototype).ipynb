{
 "cells": [
  {
   "cell_type": "markdown",
   "metadata": {},
   "source": [
    "### Read MRC Molecule Files\n",
    "\n",
    "https://github.com/ccpem/mrcfile\n",
    "\n",
    "https://pypi.org/project/mrcfile/"
   ]
  },
  {
   "cell_type": "markdown",
   "metadata": {},
   "source": [
    "#### Enter the pip install command from terminal\n",
    "```pip install mrcfile```"
   ]
  },
  {
   "cell_type": "code",
   "execution_count": 1,
   "metadata": {},
   "outputs": [],
   "source": [
    "import mrcfile"
   ]
  },
  {
   "cell_type": "code",
   "execution_count": 2,
   "metadata": {},
   "outputs": [
    {
     "name": "stdout",
     "output_type": "stream",
     "text": [
      "titan2_20180626grid4-3_0005_DW.mrc\r\n"
     ]
    }
   ],
   "source": [
    "!ls *mrc"
   ]
  },
  {
   "cell_type": "code",
   "execution_count": 7,
   "metadata": {},
   "outputs": [
    {
     "name": "stdout",
     "output_type": "stream",
     "text": [
      "[[14.415191  14.187101  14.438611  ... 14.756058  14.166785  13.714706 ]\n",
      " [14.600532  14.491421  13.823416  ... 14.418656  14.196144  14.221048 ]\n",
      " [14.433615  13.818267  14.318956  ... 14.400886  14.538549  14.229255 ]\n",
      " ...\n",
      " [14.136752  14.252588  14.139166  ... 14.2694025 14.024232  14.38411  ]\n",
      " [14.558447  14.854274  14.291833  ... 14.373419  13.914119  14.132273 ]\n",
      " [14.297128  14.224932  14.304705  ... 14.37669   14.528159  14.109698 ]]\n"
     ]
    }
   ],
   "source": [
    "with mrcfile.open('titan2_20180626grid4-3_0005_DW.mrc', mode='r+', permissive=True) as mrc:\n",
    "    mrc.header.map = mrcfile.constants.MAP_ID\n",
    "    print(mrc.data)"
   ]
  },
  {
   "cell_type": "code",
   "execution_count": null,
   "metadata": {},
   "outputs": [],
   "source": []
  }
 ],
 "metadata": {
  "kernelspec": {
   "display_name": "Python 3",
   "language": "python",
   "name": "python3"
  },
  "language_info": {
   "codemirror_mode": {
    "name": "ipython",
    "version": 3
   },
   "file_extension": ".py",
   "mimetype": "text/x-python",
   "name": "python",
   "nbconvert_exporter": "python",
   "pygments_lexer": "ipython3",
   "version": "3.6.4"
  }
 },
 "nbformat": 4,
 "nbformat_minor": 2
}
